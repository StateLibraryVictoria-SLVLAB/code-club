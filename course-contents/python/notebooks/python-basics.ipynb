{
 "cells": [
  {
   "attachments": {},
   "cell_type": "markdown",
   "metadata": {},
   "source": [
    "# Python Basics\n",
    "\n",
    "Python files are saved with the .py file extension\n",
    "Python interpreter will 'read' them from top-to-bottom - so order is important\n",
    "\n",
    "### Comments\n",
    "\n",
    "- hash marks at the beginning of the line denote a comment\n",
    "- also used in dev (and sometimes prod) to 'comment out' code that isn't needed/working\n",
    "- most editors have a comment toggle shortcut, that's very useful e.g. vs code `ctrl + /`"
   ]
  },
  {
   "cell_type": "code",
   "execution_count": 1,
   "metadata": {},
   "outputs": [],
   "source": [
    "# This is a comment\n",
    "# print('Hello world!') # comments can also be added after code"
   ]
  },
  {
   "attachments": {},
   "cell_type": "markdown",
   "metadata": {
    "slideshow": {
     "slide_type": "slide"
    }
   },
   "source": [
    "### Expressions\n",
    "\n",
    "Expressions consist of values and operators which evaluate down to single value"
   ]
  },
  {
   "cell_type": "code",
   "execution_count": 2,
   "metadata": {},
   "outputs": [
    {
     "data": {
      "text/plain": [
       "4"
      ]
     },
     "execution_count": 2,
     "metadata": {},
     "output_type": "execute_result"
    }
   ],
   "source": [
    "2 + 2"
   ]
  },
  {
   "attachments": {},
   "cell_type": "markdown",
   "metadata": {},
   "source": [
    "There are many operators including, but not limited to, mathematical operators:"
   ]
  },
  {
   "cell_type": "code",
   "execution_count": 3,
   "metadata": {},
   "outputs": [
    {
     "data": {
      "text/plain": [
       "6"
      ]
     },
     "execution_count": 3,
     "metadata": {},
     "output_type": "execute_result"
    }
   ],
   "source": [
    "2 + 2 # addition\n",
    "4 - 2 # subtraction\n",
    "4 / 2 # division\n",
    "4 * 2 # multiplication\n",
    "2 ** 3 # exponent (or 'to the power of')\n",
    "22 // 8 # integer division (square root)\n",
    "22 % 8 # modulus"
   ]
  },
  {
   "attachments": {},
   "cell_type": "markdown",
   "metadata": {},
   "source": [
    "The modulus operator `%` returns the remainder. In the example above `22 % 8` evaluates to `6`. \n",
    "To explain why, it's because if you evaluate `22 / 8` you get `2.75` which rounds down to `2`\n",
    "`8 * 2 = 16` which leaves a remainder of `6`\n",
    "\n",
    "In practice, the only common use case for modulus I'm aware of is to help determine if a number is odd or even:"
   ]
  },
  {
   "cell_type": "code",
   "execution_count": 4,
   "metadata": {},
   "outputs": [
    {
     "name": "stdout",
     "output_type": "stream",
     "text": [
      "15 is odd\n"
     ]
    }
   ],
   "source": [
    "number_to_check = input('Enter a number ')\n",
    "if int(number_to_check) % 2 == 0: # modulus 2 will always be 0 if and only if the number is even\n",
    "    print(f'{number_to_check} is even')\n",
    "else:\n",
    "    print(f'{number_to_check} is odd')"
   ]
  },
  {
   "attachments": {},
   "cell_type": "markdown",
   "metadata": {},
   "source": [
    "Order of operations for maths operators is important \n",
    "\"PEMDAS\" i.e. parenthesis, exponents, multiplication, division, addition, subtraction"
   ]
  },
  {
   "cell_type": "code",
   "execution_count": null,
   "metadata": {},
   "outputs": [
    {
     "data": {
      "text/plain": [
       "20"
      ]
     },
     "execution_count": 18,
     "metadata": {},
     "output_type": "execute_result"
    }
   ],
   "source": [
    "2 + 3 * 6"
   ]
  },
  {
   "cell_type": "code",
   "execution_count": null,
   "metadata": {},
   "outputs": [
    {
     "data": {
      "text/plain": [
       "30"
      ]
     },
     "execution_count": 19,
     "metadata": {},
     "output_type": "execute_result"
    }
   ],
   "source": [
    "(2 + 3) * 6"
   ]
  },
  {
   "attachments": {},
   "cell_type": "markdown",
   "metadata": {},
   "source": [
    "### Data Types: integer, floating-point and strings\n",
    "\n",
    "Data types are categories for values, each value has exactly one data type:\n",
    "\n",
    "- integers are whole numbers denoted by int()\n",
    "- floating-points are numbers with decimal places, denoted by float()\n",
    "- strings are text values, and can be wrapped in ' ' or \" \" and are denoted by str()\n",
    "\n",
    "You can check for types in python by using type()"
   ]
  },
  {
   "cell_type": "code",
   "execution_count": null,
   "metadata": {},
   "outputs": [
    {
     "name": "stdout",
     "output_type": "stream",
     "text": [
      "<class 'int'>\n",
      "<class 'float'>\n",
      "<class 'str'>\n"
     ]
    }
   ],
   "source": [
    "print(type(42))\n",
    "print(type(42.00))\n",
    "print(type('42'))"
   ]
  },
  {
   "attachments": {},
   "cell_type": "markdown",
   "metadata": {},
   "source": [
    "If they're compatible, you can also cast values as different data types"
   ]
  },
  {
   "cell_type": "code",
   "execution_count": null,
   "metadata": {},
   "outputs": [
    {
     "name": "stdout",
     "output_type": "stream",
     "text": [
      "42\n",
      "42.9\n",
      "42\n"
     ]
    },
    {
     "ename": "ValueError",
     "evalue": "invalid literal for int() with base 10: 'Forty'",
     "output_type": "error",
     "traceback": [
      "\u001b[1;31m---------------------------------------------------------------------------\u001b[0m",
      "\u001b[1;31mValueError\u001b[0m                                Traceback (most recent call last)",
      "Cell \u001b[1;32mIn[22], line 4\u001b[0m\n\u001b[0;32m      2\u001b[0m \u001b[39mprint\u001b[39m(\u001b[39mstr\u001b[39m(\u001b[39m42.9\u001b[39m))\n\u001b[0;32m      3\u001b[0m \u001b[39mprint\u001b[39m(\u001b[39mint\u001b[39m(\u001b[39m'\u001b[39m\u001b[39m42\u001b[39m\u001b[39m'\u001b[39m))\n\u001b[1;32m----> 4\u001b[0m \u001b[39mprint\u001b[39m(\u001b[39mint\u001b[39;49m(\u001b[39m'\u001b[39;49m\u001b[39mForty\u001b[39;49m\u001b[39m'\u001b[39;49m)) \u001b[39m# * example of incompatible value to cast, will throw an error\u001b[39;00m\n",
      "\u001b[1;31mValueError\u001b[0m: invalid literal for int() with base 10: 'Forty'"
     ]
    }
   ],
   "source": [
    "print(int(42.9)) # * note that floats will round down\n",
    "print(str(42.9))\n",
    "print(int('42'))\n",
    "print(int('Forty')) # * example of incompatible value to cast, will throw an error"
   ]
  },
  {
   "attachments": {},
   "cell_type": "markdown",
   "metadata": {},
   "source": [
    "### String Concatenation and Replication\n",
    "\n",
    "One reason data types are important is because they can affect how an operator will work"
   ]
  },
  {
   "cell_type": "code",
   "execution_count": null,
   "metadata": {},
   "outputs": [
    {
     "data": {
      "text/plain": [
       "4"
      ]
     },
     "execution_count": 23,
     "metadata": {},
     "output_type": "execute_result"
    }
   ],
   "source": [
    "print('2' + '2')\n",
    "print(2 + 2)"
   ]
  },
  {
   "attachments": {},
   "cell_type": "markdown",
   "metadata": {},
   "source": [
    "If you mix string and number data types with the + operator you will get an error"
   ]
  },
  {
   "cell_type": "code",
   "execution_count": null,
   "metadata": {},
   "outputs": [],
   "source": [
    "print('2' + 2)\n",
    "print(2.5 + 2) # * because they're both number data types Python will evaluate this more flexibly"
   ]
  },
  {
   "attachments": {},
   "cell_type": "markdown",
   "metadata": {},
   "source": [
    "However, the `*` operator does allow you to mix string and int data types"
   ]
  },
  {
   "cell_type": "code",
   "execution_count": null,
   "metadata": {},
   "outputs": [],
   "source": [
    "print('Library' * 5)\n",
    "print('Library' * 5.0) # * floats cannot be mixed with strings for multipliers"
   ]
  },
  {
   "attachments": {},
   "cell_type": "markdown",
   "metadata": {},
   "source": [
    "### Storing values in variables\n",
    "\n",
    "A variable is like a box where a value can be stored, which allows you to (re)use the value in elsewhere in the code"
   ]
  },
  {
   "cell_type": "code",
   "execution_count": null,
   "metadata": {},
   "outputs": [],
   "source": [
    "name = 'Leo'\n",
    "print(name)\n",
    "other_name = 'Kos'\n",
    "print(other_name)\n",
    "print(name + other_name)\n",
    "name = name + other_name # * variables can also be updated or overwritten\n",
    "print(name)"
   ]
  },
  {
   "attachments": {},
   "cell_type": "markdown",
   "metadata": {},
   "source": [
    "Variable naming should be descriptive and specific. They must also follow these rules:\n",
    "\n",
    "- cannot contain spaces\n",
    "- use only words, letters and the underscore (_) character\n",
    "- cannot begin with a number\n",
    "\n",
    "*It is convention in Python to use \"snake_case\" for naming variables i.e. all lower case separated by underscores*\n",
    "\n",
    "Variable names are also case sensitive:"
   ]
  },
  {
   "cell_type": "code",
   "execution_count": null,
   "metadata": {},
   "outputs": [],
   "source": [
    "name = 'Leo'\n",
    "Name = 'Kos'\n",
    "print('name', name)\n",
    "print('Name', Name)"
   ]
  },
  {
   "attachments": {},
   "cell_type": "markdown",
   "metadata": {},
   "source": [
    "### Your first program"
   ]
  },
  {
   "cell_type": "code",
   "execution_count": 1,
   "metadata": {},
   "outputs": [
    {
     "name": "stdout",
     "output_type": "stream",
     "text": [
      "What is your name?\n",
      "It is good to meet you,  Leo\n",
      "The length of your name is: \n",
      "3\n",
      "You will be 2 in a year\n"
     ]
    }
   ],
   "source": [
    "print('What is your name?')\n",
    "my_name = input()\n",
    "print('It is good to meet you, ', my_name)\n",
    "# print(f'It is good to meet you, {my_name}') #? a more modern way of combining variables and strings\n",
    "print('The length of your name is: ')\n",
    "print(len(my_name)) # len returns the length of a given variable/value\n",
    "my_age = input('What is your age? ') # ? You can add a string to the input() function rather than create a sep print statement\n",
    "print(f'You will be {int(my_age) + 1} in a year')"
   ]
  },
  {
   "attachments": {},
   "cell_type": "markdown",
   "metadata": {},
   "source": [
    "**NB:** the default type for an input is a str, so it needs to be converted to an int to allow for maths"
   ]
  },
  {
   "attachments": {},
   "cell_type": "markdown",
   "metadata": {},
   "source": [
    "### Practice Questions\n",
    "\n",
    "1. Which of the following are operators, and which are values?\n",
    "\n",
    "```python\n",
    "*\n",
    "'hello'\n",
    "-88.8\n",
    "-\n",
    "/\n",
    "+\n",
    "5\n",
    "```\n",
    "\n",
    "2. Which of the following is a variable, and which is a string?\n",
    "\n",
    "```python\n",
    "spam\n",
    "'spam'\n",
    "```\n",
    "\n",
    "3. Name three data types.\n",
    "\n",
    "4. What is an expression made up of? What do all expressions do?\n",
    "\n",
    "5. This chapter introduced assignment statements, like `spam = 10`. What is the difference between an expression and a statement?\n",
    "\n",
    "6. What does the variable bacon contain after the following code runs?\n",
    "\n",
    "```python\n",
    "bacon = 20\n",
    "bacon + 1\n",
    "```\n",
    "\n",
    "7. What should the following two expressions evaluate to?\n",
    "\n",
    "```python\n",
    "'spam' + 'spamspam'\n",
    "'spam' * 3\n",
    "```\n",
    "\n",
    "8. Why is `eggs` a valid variable name while `100` is invalid?\n",
    "\n",
    "9. What three functions can be used to get the integer, floating-point number, or string version of a value?\n",
    "\n",
    "10. Why does this expression cause an error? How can you fix it?\n",
    "\n",
    "```python\n",
    "'I have eaten ' + 99 + ' burritos.'\n",
    "```"
   ]
  }
 ],
 "metadata": {
  "kernelspec": {
   "display_name": "code-club-wrWsNoM5",
   "language": "python",
   "name": "python3"
  },
  "language_info": {
   "codemirror_mode": {
    "name": "ipython",
    "version": 3
   },
   "file_extension": ".py",
   "mimetype": "text/x-python",
   "name": "python",
   "nbconvert_exporter": "python",
   "pygments_lexer": "ipython3",
   "version": "3.11.0"
  },
  "orig_nbformat": 4
 },
 "nbformat": 4,
 "nbformat_minor": 2
}
