{
 "cells": [
  {
   "cell_type": "markdown",
   "metadata": {},
   "source": [
    "# Python Foundations: Data types and structures\n",
    "\n",
    "Python syntax allows its users to quickly define a range of different data types and structures. At an abstract level, each object in Python will have a data type, and they can be grouped into data structures.\n",
    "\n",
    "Each data type/structure comes with its own selection of useful features and \"methods\". Which makes selecting data type an important thing to consider!\n",
    "\n",
    "It is also possible to convert an object from one type to another. Sometimes you may be retrieving data from an external source and not necessarily know how the data types have been defined. If you need to check a data type in Python there's a very easy way to do so, the `type()` function. The following code block will return the types for each object that is covered in the notebook. "
   ]
  },
  {
   "cell_type": "code",
   "execution_count": 1,
   "metadata": {},
   "outputs": [
    {
     "name": "stdout",
     "output_type": "stream",
     "text": [
      "<class 'str'>\n",
      "<class 'int'>\n",
      "<class 'float'>\n",
      "<class 'bool'>\n",
      "<class 'list'>\n",
      "<class 'dict'>\n",
      "<class 'set'>\n",
      "<class 'tuple'>\n"
     ]
    }
   ],
   "source": [
    "print(type('a string'))\n",
    "print(type(10))\n",
    "print(type(10.01))\n",
    "print(type(True))\n",
    "print(type(['a string','another string']))\n",
    "print(type({\"key\":\"value\"}))\n",
    "print(type({1,2,3}))\n",
    "print(type((1,2,3)))"
   ]
  },
  {
   "cell_type": "markdown",
   "metadata": {},
   "source": [
    "**N.B.** note that all the types returned are prefixed with `<class ...>`. That's because under the hood in Python, all objects are 'classes'. For the moment it doesn't matter exactly what that means."
   ]
  },
  {
   "cell_type": "markdown",
   "metadata": {},
   "source": [
    "## Strings\n",
    "\n",
    "Strings in Python are defined by surrounded characters by either `'` or `\"`. Both can be used throughout a script. \n",
    "\n",
    "However, you cannot mix them as part of the same string e.g. both `\"a string\"` and `'a string'` are valid whereas `\"a string'` is not.\n",
    "\n",
    "Strings have their own methods that can be used to manipulate and interrogate them: [https://www.w3schools.com/python/python_ref_string.asp](https://www.w3schools.com/python/python_ref_string.asp)\n",
    "\n",
    "As well built in methods, Python also provides some more options to manipulate strings e.g. mathematical operators  "
   ]
  },
  {
   "cell_type": "code",
   "execution_count": 4,
   "metadata": {},
   "outputs": [
    {
     "name": "stdout",
     "output_type": "stream",
     "text": [
      "string onestring 2\n",
      "Around the world \n",
      "Around the world \n",
      "Around the world \n",
      "Around the world \n",
      "Around the world \n",
      "Around the world \n",
      "Around the world \n",
      "Around the world \n",
      "Around the world \n",
      "Around the world \n",
      "Around the world \n",
      "Around the world \n",
      "Around the world \n",
      "Around the world \n",
      "Around the world \n",
      "Around the world \n",
      "Around the world \n",
      "Around the world \n",
      "Around the world \n",
      "Around the world \n",
      "\n"
     ]
    }
   ],
   "source": [
    "concatenated_string = 'string one' + 'string 2'\n",
    "print(concatenated_string)\n",
    "\n",
    "daft_punk_lyric = \"Around the world \\n\" # \\n indicates a newline\n",
    "daft_punk_song = daft_punk_lyric * 5     \n",
    "print(daft_punk_song)"
   ]
  },
  {
   "cell_type": "markdown",
   "metadata": {},
   "source": [
    "### String exercises\n",
    "\n",
    "Using string methods listed here [https://www.w3schools.com/python/python_ref_string.asp](https://www.w3schools.com/python/python_ref_string.asp) or mathematical operators come up with solutions to the following:\n",
    "\n",
    "1. Capitalise the **first** word in the following string `\"the man who stole the world\"`\n",
    "2. Capitalise **each** word in the following string `\"the man who stole the world\"`\n",
    "3. Count the number of times \"a\" appears in the string `\"I am the eggman. They are the eggmen. I am the walrus\"`\n",
    "4. Count the number of times \"a\" appears in `\"\"So, bye, bye Miss American pie` ensuring that both lower and upper cases instances are counted.\n",
    "5. In the following string replace `\"<your_name>\"` with your name and store it in a variable called `all_work`: `\"All work and no play makes <your_name> a dull coder\"`\n",
    "6. Create a variable called `no_play` that repeats the `all_work` variable ten times.\n",
    "7. What is the **len**gth of `no_play`? "
   ]
  },
  {
   "cell_type": "markdown",
   "metadata": {},
   "source": [
    "## Numbers: ints & floats\n",
    "\n",
    "Integers and floats are the two of the simplest and most commonly used number data types. Although they have some characteristics unique to each of them, they are also compatible in many ways.\n",
    "\n",
    "  - Integers are whole numbers and can be positive or negative\n",
    "  - Floating points are numbers with decimal points\n",
    "\n",
    "### Casting\n",
    "\n",
    "Casting allows you to change the data type of an object. For example, a number may have been read from a spreadsheet as a string and you want to do some maths on it. To cast an object use the type name (e.g. float, int, list etc) and pass the object into parentheses afterwards e.g. `int(7.0)`"
   ]
  },
  {
   "cell_type": "markdown",
   "metadata": {},
   "source": [
    "### Number exercises\n",
    "\n",
    "1. Add the following together:\n",
    "    - `7 + 3`\n",
    "    - `6.7 + 3.3`\n",
    "    - `7.0 + 3`\n",
    "    - `\"7\" + \"3\"`\n",
    "    - what do you observe?\n",
    "2. Try the following casts\n",
    "    - `int(\"7\")`\n",
    "    - `int(\"Seven\")`\n",
    "    - `int(7.4)`\n",
    "    - `int(7.7)`\n",
    "    - `float(\"7\")`\n",
    "    - `float(7)`\n",
    "    - `str(7.34)`\n",
    "    - `str(7)`\n",
    "    - is the anything that didn't behave as you might expect?"
   ]
  },
  {
   "cell_type": "code",
   "execution_count": 10,
   "metadata": {},
   "outputs": [
    {
     "data": {
      "text/plain": [
       "7.0"
      ]
     },
     "execution_count": 10,
     "metadata": {},
     "output_type": "execute_result"
    }
   ],
   "source": []
  },
  {
   "cell_type": "markdown",
   "metadata": {},
   "source": [
    "## Booleans\n",
    "\n",
    "A Boolean value is always either `True` or `False` (note the capitalisation). In Python *expressions* will always evaluate to a Boolean.\n",
    "\n",
    "e.g. `10 > 5` is `True` and `5 > 10` is `False`\n",
    "\n",
    "If you would like to check if two values are equal you need to use `==` and `!=` for not equal.\n",
    "\n",
    "e.g. `10 == (5 + 5)` is `True` and `(2 + 2) != 5` is `True`\n",
    "\n",
    "### `and`, `or` and `not`\n",
    "\n",
    "Python uses the `and` and `or` logical operators to combine conditional statements. \n",
    "\n",
    "- `and` will return `True` if both statements are true e.g.  `10 == (5 + 5) and (2 + 2) != 5`\n",
    "- `or` will return `True` if either statement is true e.g `10 == (5 + 5) or (2 + 2) == 5`\n",
    "\n",
    "The `not` operator is used to reverse the Boolean value e.g. `not(10 == (5 + 5) or (2 + 2) == 5)` will return `False`\n",
    "\n",
    "### \"Truthy\" and \"falsey\" data types\n",
    "\n",
    "By using `bool()` to cast other data types to a Boolean, you evaluate any value. Most values are *truthy* e.g. `bool(\"My string\")` will return `True`, whereas `bool(\"\")` returns `False`\n",
    "\n",
    "Values that evaluate as `False` or *falsey values* include the following:\n",
    "\n",
    "- String: `\"\"`\n",
    "- Int: `0`\n",
    "- Float: `0.0`\n",
    "- List: `[]`\n",
    "- Dictionary: `{}`"
   ]
  },
  {
   "cell_type": "markdown",
   "metadata": {},
   "source": [
    "### Boolean exercises\n",
    "\n",
    "What Boolean values would you expect the following evaluate to?\n",
    "1. `10 > 100`\n",
    "2. `10 >= (5 + 5)`\n",
    "3. `10.0 == \"10\"`\n",
    "4. `10.0 == 10`\n",
    "5. `\"dog\" != \"cat\"`\n",
    "6. `(4 < 5) and (5 < 6)`\n",
    "7. `(4 < 5) and (9 < 6)`\n",
    "8. `(1 == 2) or (2 == 2)`\n",
    "9. `not (5 > 4)`\n",
    "10. `(not bool(0)) or (not bool(\"Zero\"))`\n",
    "\n",
    "Hint: use the code block below to check and interrogate the answers"
   ]
  },
  {
   "cell_type": "code",
   "execution_count": 13,
   "metadata": {},
   "outputs": [
    {
     "data": {
      "text/plain": [
       "False"
      ]
     },
     "execution_count": 13,
     "metadata": {},
     "output_type": "execute_result"
    }
   ],
   "source": []
  },
  {
   "cell_type": "markdown",
   "metadata": {},
   "source": [
    "## Lists\n",
    "\n",
    "In Python, lists are the imaginative name for lists of values. Here are their key characteristics:\n",
    "\n",
    "- they are defined by square brackets e.g. `my_list = [1,2,3,4]`\n",
    "- they are **ordered** and therefore indexed\n",
    "- they can hold duplicate values\n",
    "- they are mutable (i.e. they can be changed)\n",
    "- they can contain all other data types, including other lists e.g. `another_list = ['1','2','3',1,2,3,[1,2,3]]`\n",
    "\n",
    "### List indexes\n",
    "\n",
    "Because lists are ordered it is possible to access items by using their index. The index begins at 0 and increments 1 for each list item. You can access the index by appending square brackets to the list and passing an integer.\n",
    "\n",
    "You can also use negative integers to retrieve items based on their position relative to the end of the list i.e. `-1` is the final entry `-2` is the penultimate etc.\n",
    "\n",
    "Indexes also allow you to *slice* lists, or retrieve parts of the list by using `[:]`\n",
    "\n",
    "Here's an example:"
   ]
  },
  {
   "cell_type": "code",
   "execution_count": 18,
   "metadata": {},
   "outputs": [
    {
     "data": {
      "text/plain": [
       "['Monkey', 'Bear', 'Tiger', 'Fox', 'Giraffe']"
      ]
     },
     "execution_count": 18,
     "metadata": {},
     "output_type": "execute_result"
    }
   ],
   "source": [
    "animals = [\"Monkey\", \"Bear\", \"Tiger\", \"Fox\", \"Giraffe\", \"Penguin\"]\n",
    "animals[0]\n",
    "animals[1]\n",
    "animals[-1]\n",
    "\n",
    "animals[1:3] # note that the second integer is not inclusive\n",
    "animals[1:]\n",
    "animals[:-1]"
   ]
  },
  {
   "cell_type": "markdown",
   "metadata": {},
   "source": [
    "### List exercises\n",
    "\n",
    "Lists have great deal of useful methods that can be used to update and manipulate them, and should be useful when tackling the following questions. Read about them here: [https://www.w3schools.com/python/python_lists_methods.asp](https://www.w3schools.com/python/python_lists_methods.asp)\n",
    "\n",
    "1. Create a list, with a minimum of 5 items in it.\n",
    "2. *append* a new item to the list\n",
    "3. *insert* a duplicate of the second element to fourth index in the list the list\n",
    "4. *count* how many times the second element appears in the list\n",
    "5. Create a variable to store the 3rd, 4th and 5th elements\n",
    "6. Extend the original list with the items in the variable created for 5.\n",
    "7. What is the first item in the list alphabetically? \n",
    "8. What is the **len**gth of the list?\n",
    "9. *append* a new items to the list with the value `\"\"`\n",
    "10. Remove the item from the list that has the value `\"\"`"
   ]
  },
  {
   "cell_type": "code",
   "execution_count": null,
   "metadata": {},
   "outputs": [],
   "source": []
  },
  {
   "cell_type": "markdown",
   "metadata": {},
   "source": [
    "**n.b.** Strings are also indexed and can be sliced and diced in similar ways to lists e.g."
   ]
  },
  {
   "cell_type": "code",
   "execution_count": 21,
   "metadata": {},
   "outputs": [
    {
     "data": {
      "text/plain": [
       "'his '"
      ]
     },
     "execution_count": 21,
     "metadata": {},
     "output_type": "execute_result"
    }
   ],
   "source": [
    "my_str = 'this is a str'\n",
    "my_str[0]\n",
    "my_str[1:5]\n"
   ]
  },
  {
   "cell_type": "markdown",
   "metadata": {},
   "source": [
    "## Dictionaries\n",
    "\n",
    "Dictionaries are used to store data values in *key:value* pairs, they are \n",
    "\n",
    "- ordered (\"interestingly\", they used to be unordered)\n",
    "- mutable/changeable\n",
    "- do not allow duplicate keys\n",
    "\n",
    "The are written using curly brackets e.g."
   ]
  },
  {
   "cell_type": "code",
   "execution_count": 25,
   "metadata": {},
   "outputs": [
    {
     "name": "stdout",
     "output_type": "stream",
     "text": [
      "dict_keys(['f_name', 's_name', 'hair_style', 'job_title'])\n",
      "dict_values(['Sotirios', 'Alpanis', False, 'Senior Data Engineer'])\n"
     ]
    }
   ],
   "source": [
    "my_dict = {\n",
    "    \"f_name\":\"Sotirios\",\n",
    "    \"s_name\":\"Alpanis\",\n",
    "    \"hair_style\": False,\n",
    "    \"job_title\": \"Senior Data Engineer\"\n",
    "}\n",
    "print(my_dict.keys())\n",
    "print(my_dict.values())"
   ]
  },
  {
   "cell_type": "markdown",
   "metadata": {},
   "source": [
    "There are different methods for accessing values in a dictionary, but the most straightforward are to either use the key name in square brackets, or the `get()` method e.g."
   ]
  },
  {
   "cell_type": "code",
   "execution_count": 24,
   "metadata": {},
   "outputs": [
    {
     "data": {
      "text/plain": [
       "'Sotirios'"
      ]
     },
     "execution_count": 24,
     "metadata": {},
     "output_type": "execute_result"
    }
   ],
   "source": [
    "my_dict[\"f_name\"] # Note if the key doesn't exist an error will be thrown\n",
    "my_dict.get(\"f_name\") # Note if the key doesn't exist it will return None"
   ]
  },
  {
   "cell_type": "markdown",
   "metadata": {},
   "source": [
    "### Dictionary exercises\n",
    "\n",
    "Here are some potentially useful dictionary methods [https://www.w3schools.com/python/python_dictionaries_methods.asp](https://www.w3schools.com/python/python_dictionaries_methods.asp)\n",
    "\n",
    "1. Create a dictionary with the following keys (and add your own values): `first_name` (str), `lucky_number` (int), `pets` (list)\n",
    "2. Add a new key/value pair to your dictionary for `surname`\n",
    "3. `print()` the first name and surname together from your dictionary\n",
    "4. Congratulations! You just got a new pet lobster called `\"Mr Pinchy\"`, update the `pets` list to include him.\n",
    "5. Create a variable and store an alphabetic list of the keys in it.  \n"
   ]
  },
  {
   "cell_type": "markdown",
   "metadata": {},
   "source": [
    "## Sets\n",
    "\n",
    "This is one of the less common data collections, but they can be very useful. Their characteristics are:\n",
    "\n",
    "- unordered and not indexed\n",
    "- stored items are immutable (although you can add/remove items)\n",
    "- they do not allow duplicates\n",
    "\n",
    "They are written with curly brackets\n",
    "\n",
    "e.g. `animal_set = {\"cat\",\"dog\",\"lobster\"}`\n",
    "\n",
    "One of the things that makes sets so useful is their associated methods which allow for quick comparisons of sets e.g."
   ]
  },
  {
   "cell_type": "code",
   "execution_count": 34,
   "metadata": {},
   "outputs": [
    {
     "data": {
      "text/plain": [
       "True"
      ]
     },
     "execution_count": 34,
     "metadata": {},
     "output_type": "execute_result"
    }
   ],
   "source": [
    "curry_ingredients = {\"ginger\", \"garlic\", \"tomatoes\", \"chicken\", \"coriander\", \"cumin\", \"salt\", \"pepper\",\"turmeric\"}\n",
    "\n",
    "pasta_sauce_ingredients = {\"tomatoes\",\"garlic\",\"basil\", \"salt\", \"pepper\", \"oregano\", \"eggplant\"}\n",
    "\n",
    "curry_ingredients.difference(pasta_sauce_ingredients)\n",
    "# curry_ingredients - pasta_sauce_ingredients\n",
    "\n",
    "# pasta_sauce_ingredients.difference(curry_ingredients)\n",
    "# pasta_sauce_ingredients - curry_ingredients\n",
    "\n",
    "# curry_ingredients.intersection(pasta_sauce_ingredients)\n",
    "\n",
    "# shopping_list = curry_ingredients.union(pasta_sauce_ingredients)\n",
    "# shopping_list\n",
    "\n",
    "# common_ingredients = {\"salt\", \"pepper\", \"garlic\"}\n",
    "# curry_ingredients.issuperset(common_ingredients)\n",
    "# common_ingredients.issubset(curry_ingredients)\n"
   ]
  },
  {
   "cell_type": "markdown",
   "metadata": {},
   "source": [
    "Another useful trick/tip is to use casting to remove duplicates from lists e.g. "
   ]
  },
  {
   "cell_type": "code",
   "execution_count": 36,
   "metadata": {},
   "outputs": [
    {
     "data": {
      "text/plain": [
       "8"
      ]
     },
     "execution_count": 36,
     "metadata": {},
     "output_type": "execute_result"
    }
   ],
   "source": [
    "my_list = [1,1,2,2,2,4,1,5,7,8,3,4,10]\n",
    "my_set = set(my_list)\n",
    "len(my_set)"
   ]
  },
  {
   "cell_type": "markdown",
   "metadata": {},
   "source": [
    "## Tuples\n",
    "\n",
    "Tuples are pretty uncommon, but every now and then you might encounter one so it's good to know how they behave.\n",
    "\n",
    "Here's their characteristics:\n",
    "\n",
    "- they are ordered (and therefore indexed)\n",
    "- they're immutable or unchangeable\n",
    "- they're defined using `()`\n",
    "\n",
    "Because they're immutable, they tend to be used to store information that should be protected or secured e.g. passport numbers.\n",
    "\n",
    "Another feature of their immutability is that that they cannot be directly updated. the indirect method is to convert to and from a list and add/remove/update items in between e.g."
   ]
  },
  {
   "cell_type": "code",
   "execution_count": 38,
   "metadata": {},
   "outputs": [
    {
     "name": "stdout",
     "output_type": "stream",
     "text": [
      "blueberry\n",
      "cherry\n"
     ]
    }
   ],
   "source": [
    "fruit_tuple = (\"apple\",\"banana\",\"blueberry\")\n",
    "print(fruit_tuple[-1])\n",
    "\n",
    "fruit_list = list(fruit_tuple)\n",
    "fruit_list.append(\"cherry\")\n",
    "fruit_tuple = tuple(fruit_list)\n",
    "print(fruit_tuple[-1])"
   ]
  },
  {
   "cell_type": "markdown",
   "metadata": {},
   "source": [
    "### Unpack a tuple\n",
    "\n",
    "Another tuple-specific feature is the concept of \"unpacking\". This is fairly commonly used when working with dictionaries\n",
    "e.g."
   ]
  },
  {
   "cell_type": "code",
   "execution_count": 41,
   "metadata": {},
   "outputs": [
    {
     "name": "stdout",
     "output_type": "stream",
     "text": [
      "apple\n",
      "banana\n",
      "['blueberry', 'cherry']\n",
      "f_name\n",
      "Sotirios\n",
      "\n",
      "s_name\n",
      "Alpanis\n",
      "\n",
      "hair_style\n",
      "False\n",
      "\n",
      "job_title\n",
      "Senior Data Engineer\n",
      "\n"
     ]
    }
   ],
   "source": [
    "# Unpacking a tuple\n",
    "(green, yellow, *berries) = fruit_tuple\n",
    "print(green)\n",
    "print(yellow)\n",
    "print(berries)\n",
    "\n",
    "# In a dictionary context\n",
    "my_dict = {\n",
    "    \"f_name\":\"Sotirios\",\n",
    "    \"s_name\":\"Alpanis\",\n",
    "    \"hair_style\": False,\n",
    "    \"job_title\": \"Senior Data Engineer\"\n",
    "}\n",
    "\n",
    "for key, value in my_dict.items(): # the items() method returns a list of tuples\n",
    "    print(key)\n",
    "    print(value)\n",
    "    print(\"\")"
   ]
  }
 ],
 "metadata": {
  "kernelspec": {
   "display_name": "code-club-wrWsNoM5",
   "language": "python",
   "name": "python3"
  },
  "language_info": {
   "codemirror_mode": {
    "name": "ipython",
    "version": 3
   },
   "file_extension": ".py",
   "mimetype": "text/x-python",
   "name": "python",
   "nbconvert_exporter": "python",
   "pygments_lexer": "ipython3",
   "version": "3.11.0"
  }
 },
 "nbformat": 4,
 "nbformat_minor": 2
}
