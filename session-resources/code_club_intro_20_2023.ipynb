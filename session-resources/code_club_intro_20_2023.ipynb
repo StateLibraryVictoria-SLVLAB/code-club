{
 "cells": [
  {
   "cell_type": "markdown",
   "metadata": {},
   "source": [
    "# Code Club 001: introduction to Jupyter notebooks\n"
   ]
  },
  {
   "cell_type": "code",
   "execution_count": 4,
   "metadata": {},
   "outputs": [
    {
     "name": "stdout",
     "output_type": "stream",
     "text": [
      "The 1st rule of Code Club is...\n",
      "... always talk about Code Club!!!\n",
      "The 2nd rule of Code Club is...\n",
      "... always talk about Code Club!!!\n",
      "The 3rd rule of Code Club is...\n",
      "... always talk about Code Club!!!\n",
      "The 4th rule of Code Club is...\n",
      "... always talk about Code Club!!!\n",
      "The 5th rule of Code Club is...\n",
      "... always talk about Code Club!!!\n",
      "The 6th rule of Code Club is...\n",
      "... always talk about Code Club!!!\n",
      "The 7th rule of Code Club is...\n",
      "... always talk about Code Club!!!\n",
      "The 8th rule of Code Club is...\n",
      "... always talk about Code Club!!!\n",
      "The 9th rule of Code Club is...\n",
      "... always talk about Code Club!!!\n"
     ]
    }
   ],
   "source": [
    "import os\n",
    "import time\n",
    "\n",
    "code_club_rule = True\n",
    "count = 1\n",
    "\n",
    "while code_club_rule == True:\n",
    "    \n",
    "    if str(count)[-1] == '1':\n",
    "        ordinal_ind = 'st'\n",
    "    elif str(count)[-1] == '2':\n",
    "        ordinal_ind = 'nd'\n",
    "    elif str(count) == '3':\n",
    "        ordinal_ind = 'rd'\n",
    "    else:\n",
    "        ordinal_ind = 'th'\n",
    "\n",
    "    print(f'The {count}{ordinal_ind} rule of Code Club is...')\n",
    "    print(\"... always talk about Code Club!!!\")\n",
    "\n",
    "    count += 1\n",
    "    time.sleep(4)\n",
    "\n",
    "    if count == 10:\n",
    "        code_club_rule = False"
   ]
  },
  {
   "cell_type": "markdown",
   "metadata": {},
   "source": [
    "## Jupyter Notebooks\n",
    "\n",
    "Jupyter a not-for-profit project to develop open-source software and interactive computing across multiple programming languages\n",
    "\n",
    "  - The name Jupyter is derived from the three core programming languages supported: Julia, Python and R\n",
    "\n",
    "Jupyter's most famous product is it's *Notebook* interface, which allows users to combine text and code cells:\n",
    "\n",
    "  - Text cells are written in `markdown` which is a simple markup language that should be familiar to anyone that's written for a wiki **n.b.** it's also supported in Teams\n",
    "    - here's a guide for it's use: [https://www.markdownguide.org/](https://www.markdownguide.org/)\n",
    "\n",
    "  - Code cells can be written in `Julia`, `python` and `R` but the most common language used is `python`\n",
    "\n",
    "In 2017, Jupyter Notebooks won the prestigious ACM Software System Award [https://blog.jupyter.org/jupyter-receives-the-acm-software-system-award-d433b0dfe3a2](https://blog.jupyter.org/jupyter-receives-the-acm-software-system-award-d433b0dfe3a2)\n",
    "\n",
    "There are a range of different platforms that allow you to create and distribute notebooks via the internet, including [Kaggle.com](https://www.kaggle.com/) and [Google Colab](https://colab.google/)\n",
    "Notebooks and these platforms tend to be very popular amongst Data Scientists and are used for prototyping, sharing experiments and also because they offer free access to GPUs (very useful for machine learning/AI)\n",
    "Jupyter Notebooks can also be used to write presentations, e.g. [RISE](https://rise.readthedocs.io/en/latest/) and even write books e.g. [Deep Learning for Coders with fastai and PyTorch](https://github.com/fastai/fastbook)"
   ]
  },
  {
   "cell_type": "markdown",
   "metadata": {},
   "source": [
    "## Kaggle\n",
    "\n",
    "As mentioned above, Kaggle is a platform for creating, editing and sharing Jupyter Notebooks. It also provides a platform for hosting competitions (usually AI/machine learning) and to make datasets available e.g. Seattle Library's Collection Inventory [https://www.kaggle.com/datasets/city-of-seattle/seattle-library-collection-inventory](https://www.kaggle.com/datasets/city-of-seattle/seattle-library-collection-inventory)\n",
    "\n",
    "For today's Code Club session, I have created a Notebook in Kaggle - link shared via Teams\n",
    "\n",
    "Once you have the link open, and you are signed into Kaggle, you should get the option to *Copy & Edit* in the top right-hand side of the page:\n",
    "    \n",
    "   - clicking that will save a version of the notebook to your profile and allow you to execute the code, add, remove and edit sections and access it wherever you have an internet connection\n",
    "\n",
    "The notebook is designed to be a whistle-stop tour through `python`, `pandas` and `plotly`. These are all huge topics, but this notebook takes inspiration from Fastai's [Jeremy Howard](https://jeremy.fast.ai/) and takes a top-down approach. A simple analogy to explain this approach is to imagine learning to play a sport or game as a child: the first step isn't to learn all of the rules and their intricacies, it's to play! And through doing so, the game and it's rules begins to make more sense. In that spirit, read through the Notebook and if things don't immediately make sense, make a note and come back to it. For each section I've linked to other tutorials which go into more depth."
   ]
  },
  {
   "cell_type": "markdown",
   "metadata": {},
   "source": [
    "### 2 + 2 equals..."
   ]
  },
  {
   "cell_type": "code",
   "execution_count": null,
   "metadata": {},
   "outputs": [],
   "source": [
    "x = '2'\n",
    "y = '2'\n",
    "\n",
    "print(x + y)"
   ]
  },
  {
   "cell_type": "markdown",
   "metadata": {},
   "source": [
    "If you understood why the output to the above was what it was, then you're a Python expert (for this session at least) and if you didn't, no worries: you should have a Python expert somewhere nearby! "
   ]
  },
  {
   "cell_type": "markdown",
   "metadata": {},
   "source": [
    "## Python"
   ]
  },
  {
   "cell_type": "markdown",
   "metadata": {},
   "source": [
    "## Markdown"
   ]
  },
  {
   "cell_type": "markdown",
   "metadata": {},
   "source": [
    "## Pandas"
   ]
  },
  {
   "cell_type": "markdown",
   "metadata": {},
   "source": [
    "## Plotly\n",
    "\n",
    "### Docs\n",
    "\n",
    "- [https://plotly.com/python/](https://plotly.com/python/) "
   ]
  }
 ],
 "metadata": {
  "kernelspec": {
   "display_name": "code-club-wrWsNoM5",
   "language": "python",
   "name": "python3"
  },
  "language_info": {
   "codemirror_mode": {
    "name": "ipython",
    "version": 3
   },
   "file_extension": ".py",
   "mimetype": "text/x-python",
   "name": "python",
   "nbconvert_exporter": "python",
   "pygments_lexer": "ipython3",
   "version": "3.11.0"
  },
  "orig_nbformat": 4
 },
 "nbformat": 4,
 "nbformat_minor": 2
}
