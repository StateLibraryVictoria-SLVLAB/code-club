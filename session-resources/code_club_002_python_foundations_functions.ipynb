{
 "cells": [
  {
   "cell_type": "markdown",
   "metadata": {},
   "source": [
    "# Python Foundations: Functions\n",
    "\n",
    "Functions are re-usable pieces of code, that allow you to define common tasks and make it easy to repeat them.\n",
    "\n",
    "## Don't Repeat Yourself (DRY)\n",
    "\n",
    "Writing code is an exercise in laziness."
   ]
  },
  {
   "cell_type": "markdown",
   "metadata": {},
   "source": [
    "## Function syntax\n",
    "\n",
    "- defined with a `def` statement\n",
    "- `()` are used to house any arguments (more on which later)\n",
    "- `:` completes the definition\n",
    "- indentation is used to define the code block\n",
    "- `return` is used to define the output of the function\n",
    "\n",
    "Here's a simple example that prints a series of messages, one of which contains the name supplied to the function."
   ]
  },
  {
   "cell_type": "code",
   "execution_count": 8,
   "metadata": {},
   "outputs": [],
   "source": [
    "def greeting(name):\n",
    "\n",
    "    print('Greetings traveller!')\n",
    "    print(f\"How are you {name}?\")\n",
    "    print(\"I hope you are having a good day.\")"
   ]
  },
  {
   "cell_type": "markdown",
   "metadata": {},
   "source": [
    "Notice that running this code does nothing. That's because in order to use functions we have to *call* them e.g"
   ]
  },
  {
   "cell_type": "code",
   "execution_count": 9,
   "metadata": {},
   "outputs": [
    {
     "name": "stdout",
     "output_type": "stream",
     "text": [
      "Greetings traveller!\n",
      "How are you Leo?\n",
      "I hope you are having a good day.\n"
     ]
    }
   ],
   "source": [
    "greeting(\"Leo\")"
   ]
  },
  {
   "cell_type": "markdown",
   "metadata": {},
   "source": [
    "This example may seem trivial (probably because it is), however, the power of functions comes with their repeatability e.g."
   ]
  },
  {
   "cell_type": "code",
   "execution_count": 11,
   "metadata": {},
   "outputs": [
    {
     "name": "stdout",
     "output_type": "stream",
     "text": [
      "Greetings traveller!\n",
      "How are you Leo?\n",
      "I hope you are having a good day.\n",
      "Greetings traveller!\n",
      "How are you Kos?\n",
      "I hope you are having a good day.\n",
      "Greetings traveller!\n",
      "How are you Jess?\n",
      "I hope you are having a good day.\n",
      "Greetings traveller!\n",
      "How are you Yiayia?\n",
      "I hope you are having a good day.\n",
      "Greetings traveller!\n",
      "How are you Pappou?\n",
      "I hope you are having a good day.\n"
     ]
    }
   ],
   "source": [
    "names = [\"Leo\",\"Kos\",\"Jess\",\"Yiayia\",\"Pappou\"]\n",
    "\n",
    "for name in names:\n",
    "    greeting(name)"
   ]
  },
  {
   "cell_type": "markdown",
   "metadata": {},
   "source": [
    "## A practical approach\n",
    "\n",
    "While you're still early on in your coding journey it can be difficult to know when a function is necessary/preferable or how to best structure it. Instead of getting bogged down with indecision, it can be useful to write the code, solve the logic of the problem and then do something called refactoring e.g. "
   ]
  },
  {
   "cell_type": "code",
   "execution_count": 4,
   "metadata": {},
   "outputs": [
    {
     "data": {
      "text/plain": [
       "62.0"
      ]
     },
     "execution_count": 4,
     "metadata": {},
     "output_type": "execute_result"
    }
   ],
   "source": [
    "test_one_max_score = 50\n",
    "\n",
    "bills_qu1_score = 12\n",
    "bills_qu2_score = 19\n",
    "\n",
    "\n",
    "test_one_total_score = bills_qu1_score + bills_qu2_score\n",
    "test_one_percentage_score = (test_one_total_score / test_one_max_score) * 100\n",
    "test_one_percentage_score"
   ]
  },
  {
   "cell_type": "markdown",
   "metadata": {},
   "source": [
    "The code above does the job! But it's written in a way that's specific to \"test one\" and someone called \"Bill\".\n",
    "Imagine then that you want to take two scores from anyone for any test and make it repeatable. A well written function should be as generic and flexible as possible."
   ]
  },
  {
   "cell_type": "code",
   "execution_count": 5,
   "metadata": {},
   "outputs": [
    {
     "name": "stdout",
     "output_type": "stream",
     "text": [
      "62.0\n"
     ]
    }
   ],
   "source": [
    "def score_test_as_percentage(qu1_score, qu2_score, max_score):\n",
    "\n",
    "    total_score = qu1_score + qu2_score\n",
    "    percentage_score = (total_score/max_score) * 100\n",
    "\n",
    "    return percentage_score\n",
    "\n",
    "test_one_max_score = 50\n",
    "bills_qu1_score = 12\n",
    "bills_qu2_score = 19\n",
    "\n",
    "test_one_percentage_score = score_test_as_percentage(bills_qu1_score,bills_qu2_score,test_one_max_score)\n",
    "print(test_one_percentage_score)"
   ]
  },
  {
   "cell_type": "markdown",
   "metadata": {},
   "source": [
    "## Exercises\n",
    "\n",
    "1. Create function that accepts the arguments *name* and *age* and prints the following `\"Hello {name} in ten years you will be {calc_age} years old\"`\n",
    "    - Call the function you created several times with different parameters supplied\n",
    "    - create a list of dictionaries containing names and ages and loop over the entries to call your function\n",
    "2. Write some code that will concatenate two strings and return the length of the new mega-string\n",
    "    - Convert the code into a function that accepts two arguments and returns the length of the concatenated string\n"
   ]
  },
  {
   "cell_type": "markdown",
   "metadata": {},
   "source": [
    "## Functions calling functions"
   ]
  },
  {
   "cell_type": "markdown",
   "metadata": {},
   "source": [
    "## Global vs local scope"
   ]
  },
  {
   "cell_type": "markdown",
   "metadata": {},
   "source": [
    "## Handling exceptions"
   ]
  }
 ],
 "metadata": {
  "kernelspec": {
   "display_name": "code-club-wrWsNoM5",
   "language": "python",
   "name": "python3"
  },
  "language_info": {
   "codemirror_mode": {
    "name": "ipython",
    "version": 3
   },
   "file_extension": ".py",
   "mimetype": "text/x-python",
   "name": "python",
   "nbconvert_exporter": "python",
   "pygments_lexer": "ipython3",
   "version": "3.11.0"
  }
 },
 "nbformat": 4,
 "nbformat_minor": 2
}
