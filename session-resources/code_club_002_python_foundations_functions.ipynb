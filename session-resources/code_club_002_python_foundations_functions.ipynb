{
 "cells": [
  {
   "cell_type": "markdown",
   "metadata": {},
   "source": [
    "# Python Foundations: Functions\n",
    "\n",
    "## Don't Repeat Yourself (DRY)"
   ]
  }
 ],
 "metadata": {
  "language_info": {
   "name": "python"
  }
 },
 "nbformat": 4,
 "nbformat_minor": 2
}
