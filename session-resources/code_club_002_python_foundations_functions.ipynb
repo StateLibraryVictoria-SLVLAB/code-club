{
 "cells": [
  {
   "cell_type": "markdown",
   "metadata": {},
   "source": [
    "# Python Foundations: Functions\n",
    "\n",
    "Functions are re-usable pieces of code, that allow you to define common tasks and make it easy to repeat them.\n",
    "\n",
    "## Don't Repeat Yourself (DRY)\n",
    "\n",
    "Writing code is an exercise in laziness, and those that write it should live by the mantra DRY."
   ]
  },
  {
   "cell_type": "markdown",
   "metadata": {},
   "source": [
    "## Function syntax\n",
    "\n",
    "- defined with a `def` statement\n",
    "- `()` are used to house any arguments (more on which later)\n",
    "- `:` completes the definition\n",
    "- indentation is used to define the code block\n",
    "- `return` is used to define the output of the function\n",
    "\n",
    "Here's a simple example that prints a series of messages, one of which contains the name supplied to the function."
   ]
  },
  {
   "cell_type": "code",
   "execution_count": 8,
   "metadata": {},
   "outputs": [],
   "source": [
    "def greeting(name):\n",
    "\n",
    "    print('Greetings traveller!')\n",
    "    print(f\"How are you {name}?\")\n",
    "    print(\"I hope you are having a good day.\")"
   ]
  },
  {
   "cell_type": "markdown",
   "metadata": {},
   "source": [
    "Notice that running this code does nothing. That's because in order to use functions we have to *call* them e.g"
   ]
  },
  {
   "cell_type": "code",
   "execution_count": 9,
   "metadata": {},
   "outputs": [
    {
     "name": "stdout",
     "output_type": "stream",
     "text": [
      "Greetings traveller!\n",
      "How are you Leo?\n",
      "I hope you are having a good day.\n"
     ]
    }
   ],
   "source": [
    "greeting(\"Leo\")"
   ]
  },
  {
   "cell_type": "markdown",
   "metadata": {},
   "source": [
    "This example may seem trivial (probably because it is), however, the power of functions comes with their repeatability e.g."
   ]
  },
  {
   "cell_type": "code",
   "execution_count": 11,
   "metadata": {},
   "outputs": [
    {
     "name": "stdout",
     "output_type": "stream",
     "text": [
      "Greetings traveller!\n",
      "How are you Leo?\n",
      "I hope you are having a good day.\n",
      "Greetings traveller!\n",
      "How are you Kos?\n",
      "I hope you are having a good day.\n",
      "Greetings traveller!\n",
      "How are you Jess?\n",
      "I hope you are having a good day.\n",
      "Greetings traveller!\n",
      "How are you Yiayia?\n",
      "I hope you are having a good day.\n",
      "Greetings traveller!\n",
      "How are you Pappou?\n",
      "I hope you are having a good day.\n"
     ]
    }
   ],
   "source": [
    "names = [\"Leo\",\"Kos\",\"Jess\",\"Yiayia\",\"Pappou\"]\n",
    "\n",
    "for name in names:\n",
    "    greeting(name)"
   ]
  },
  {
   "cell_type": "markdown",
   "metadata": {},
   "source": [
    "### In-built functions and methods\n",
    "\n",
    "Python supplies some ready-to-use functions, e.g. `print()`. Additionally, *methods* are functions attached to classes, here's an illustrative example.\n",
    "\n",
    "If we write `x = \"my_string\"` we're instructing Python to instantiate a string class. In doing so we can then take advantage of string methods e.g `my_string.upper()`. What's going on underneath the hood is the string class has special types of function defined (referred to as methods) that can be called on any strings that are created in Python.\n",
    "\n",
    "For relative beginners with Python, understanding methods inside-out is not too important, but knowing they are special kinds of function and recognising the syntax can really contribute to *fluency* in the language."
   ]
  },
  {
   "cell_type": "markdown",
   "metadata": {},
   "source": [
    "### Arguments - args and kwargs\n",
    "\n",
    "Arguments (args) and keyword arguments (kwargs) are the part of the function that appear between `()`.\n",
    "\n",
    "They are temporary variables that are used when the function code is executed. They're one of the key features that make functions so flexible and therefore useful.\n",
    "\n",
    "Arguments are *positional* and the order in which they're defined is the order in which they should be *passed* to the function invocation:"
   ]
  },
  {
   "cell_type": "code",
   "execution_count": 7,
   "metadata": {},
   "outputs": [
    {
     "name": "stdout",
     "output_type": "stream",
     "text": [
      "Correct order:  Yiasou Leo\n",
      "Incorrect order:  G'day French\n"
     ]
    }
   ],
   "source": [
    "def multilingual_greeting(name, language):\n",
    "    if language == 'French':\n",
    "        greeting = f'Bonjour {name}'\n",
    "    elif language == 'Spanish':\n",
    "        greeting = f'Ola {name}'\n",
    "    elif language == 'Greek':\n",
    "        greeting = f'Yiasou {name}'\n",
    "    else:\n",
    "        greeting = f\"G'day {name}\"\n",
    "    \n",
    "    return greeting\n",
    "\n",
    "print('Correct order: ',multilingual_greeting('Leo','Greek'))\n",
    "print('Incorrect order: ',multilingual_greeting('French','Kos'))"
   ]
  },
  {
   "cell_type": "markdown",
   "metadata": {},
   "source": [
    "Keyword arguments are a slightly more advanced feature, but very useful when used correctly. It sounds obvious, but they use a keyword as part of the argument definition. They allow you to define default values and are optional when instantiating a function call. They can be used in conjunction with standard arguments. Because arguments are positional, keyword arguments must always follow them in the function definition."
   ]
  },
  {
   "cell_type": "code",
   "execution_count": 8,
   "metadata": {},
   "outputs": [
    {
     "name": "stdout",
     "output_type": "stream",
     "text": [
      "Bonjour Jess\n",
      "Bonjour Yiayia\n",
      "Ola Pappou\n"
     ]
    }
   ],
   "source": [
    "def multilingual_greeting(name, language='French'):\n",
    "    if language == 'French':\n",
    "        greeting = f'Bonjour {name}'\n",
    "    elif language == 'Spanish':\n",
    "        greeting = f'Ola {name}'\n",
    "    elif language == 'Greek':\n",
    "        greeting = f'Yiasou {name}'\n",
    "    else:\n",
    "        greeting = f\"G'day {name}\"\n",
    "    \n",
    "    return greeting\n",
    "\n",
    "print(multilingual_greeting('Jess'))\n",
    "print(multilingual_greeting('Yiayia'))\n",
    "print(multilingual_greeting('Pappou',language='Spanish'))"
   ]
  },
  {
   "cell_type": "markdown",
   "metadata": {},
   "source": [
    "### The `return` statement\n",
    "\n",
    "This is optional when defining functions. However, practically speaking, in most cases it is needed. If the args/kwargs define the input to a function then `return` defines the output. Functions can have more than one return statement, which is useful for returning different values depending on the logic defined. However, once a function returns a value, it is complete and no further code will run.\n",
    "\n",
    "If a function executes without returning a value then it is called a *null function* and it returns the `None` data type.\n",
    "\n",
    "Let's rework the `multilingual_greeting` function to use several return statements, and also return `None` when the language is not supported."
   ]
  },
  {
   "cell_type": "code",
   "execution_count": 1,
   "metadata": {},
   "outputs": [
    {
     "name": "stdout",
     "output_type": "stream",
     "text": [
      "G'day Kos\n",
      "None\n"
     ]
    }
   ],
   "source": [
    "\n",
    "def multilingual_greeting(name, language='French'):\n",
    "    if language == 'French':\n",
    "        return f'Bonjour {name}'\n",
    "    elif language == 'Spanish':\n",
    "        return f'Ola {name}'\n",
    "    elif language == 'Greek':\n",
    "        return f'Yiasou {name}'\n",
    "    elif language == 'English':\n",
    "        return f\"G'day {name}\"\n",
    "    \n",
    "print(multilingual_greeting('Kos', language='English'))\n",
    "print(multilingual_greeting('Leo',language='Arabic')) # returns a None type because there's no return statement associated with Arabic\n",
    "    "
   ]
  },
  {
   "cell_type": "markdown",
   "metadata": {},
   "source": [
    "## A practical approach\n",
    "\n",
    "While you're still early on in your coding journey it can be difficult to know when a function is necessary/preferable or how to best structure it. Instead of getting bogged down with indecision, it can be useful to write the code, solve the logic of the problem and then do something called refactoring e.g. "
   ]
  },
  {
   "cell_type": "code",
   "execution_count": 4,
   "metadata": {},
   "outputs": [
    {
     "data": {
      "text/plain": [
       "62.0"
      ]
     },
     "execution_count": 4,
     "metadata": {},
     "output_type": "execute_result"
    }
   ],
   "source": [
    "test_one_max_score = 50\n",
    "\n",
    "bills_qu1_score = 12\n",
    "bills_qu2_score = 19\n",
    "\n",
    "\n",
    "test_one_total_score = bills_qu1_score + bills_qu2_score\n",
    "test_one_percentage_score = (test_one_total_score / test_one_max_score) * 100\n",
    "test_one_percentage_score"
   ]
  },
  {
   "cell_type": "markdown",
   "metadata": {},
   "source": [
    "The code above does the job! But it's written in a way that's specific to \"test one\" and someone called \"Bill\".\n",
    "Imagine then that you want to take two scores from anyone for any test and make it repeatable. A well written function should be as generic and flexible as possible."
   ]
  },
  {
   "cell_type": "code",
   "execution_count": 5,
   "metadata": {},
   "outputs": [
    {
     "name": "stdout",
     "output_type": "stream",
     "text": [
      "62.0\n"
     ]
    }
   ],
   "source": [
    "def score_test_as_percentage(qu1_score, qu2_score, max_score):\n",
    "\n",
    "    total_score = qu1_score + qu2_score\n",
    "    percentage_score = (total_score/max_score) * 100\n",
    "\n",
    "    return percentage_score\n",
    "\n",
    "test_one_max_score = 50\n",
    "bills_qu1_score = 12\n",
    "bills_qu2_score = 19\n",
    "\n",
    "test_one_percentage_score = score_test_as_percentage(bills_qu1_score,bills_qu2_score,test_one_max_score)\n",
    "print(test_one_percentage_score)"
   ]
  },
  {
   "cell_type": "markdown",
   "metadata": {},
   "source": [
    "## Exercises\n",
    "\n",
    "1. Create a function that accepts the arguments *name* and *age* and prints the following `\"Hello {name} in ten years you will be {calc_age} years old\"` where `calc_age` is the age supplied plus 10 years\n",
    "    - Call the function you created several times with different parameters supplied\n",
    "    - update the function with the kwarg `years_lapsed`and the default value set to 5. Change the code to dynamically calculate the time lapsed and the statement that is printed according to the value if `years_lapsed`\n",
    "    - use the `football_players` list of dictionaries defined below and loop over the entries to call your function\n",
    "2. Write some code that will concatenate two strings and return the length of the new mega-string\n",
    "    - Convert the code into a function that accepts two arguments and returns the length of the concatenated string\n"
   ]
  },
  {
   "cell_type": "code",
   "execution_count": null,
   "metadata": {},
   "outputs": [],
   "source": [
    "football_players = [\n",
    "    { 'name': 'Bruno', 'age': 29},\n",
    "    { 'name': 'Kobbie', 'age': 18 },\n",
    "    { 'name': 'Marcus', 'age': 26 },\n",
    "    { 'name': 'Lisandro', 'age': 26 },\n",
    "]"
   ]
  },
  {
   "cell_type": "markdown",
   "metadata": {},
   "source": [
    "## Global vs local scope\n",
    "\n",
    "When creating functions it is important to understand something called 'scope'. There are two types of scope:\n",
    "\n",
    "1. `global`: any variable created in this scope is available throughout the script\n",
    "2. `local`: any variable created (or updated) in this scope is only available to specific parts of the script\n",
    "\n",
    "knowing when and how these are created is important to avoid any confusion.\n"
   ]
  },
  {
   "cell_type": "code",
   "execution_count": 1,
   "metadata": {},
   "outputs": [
    {
     "name": "stdout",
     "output_type": "stream",
     "text": [
      "Sotirios Alpanis\n"
     ]
    },
    {
     "data": {
      "text/plain": [
       "'Sotirios Alpanis'"
      ]
     },
     "execution_count": 1,
     "metadata": {},
     "output_type": "execute_result"
    }
   ],
   "source": [
    "forename = 'Sotirios' #created in global scope\n",
    "\n",
    "def print_name(surname):\n",
    "\n",
    "    full_name = f\"{forename} {surname}\" # created in local scope\n",
    "\n",
    "    print(full_name)\n",
    "\n",
    "    return full_name\n",
    "\n",
    "print_name('Alpanis')"
   ]
  },
  {
   "cell_type": "markdown",
   "metadata": {},
   "source": [
    "In the example above, we created a **global** variable `forename` and a **local** variable `full_name`.\n",
    "\n",
    "`forename` can be called anywhere, including within the function. However, `full_name` was created **locally** in the scope of the function and therefore can only be called within that scope"
   ]
  },
  {
   "cell_type": "code",
   "execution_count": 2,
   "metadata": {},
   "outputs": [
    {
     "ename": "NameError",
     "evalue": "name 'full_name' is not defined",
     "output_type": "error",
     "traceback": [
      "\u001b[1;31m---------------------------------------------------------------------------\u001b[0m",
      "\u001b[1;31mNameError\u001b[0m                                 Traceback (most recent call last)",
      "Cell \u001b[1;32mIn[2], line 1\u001b[0m\n\u001b[1;32m----> 1\u001b[0m \u001b[38;5;28mprint\u001b[39m(\u001b[43mfull_name\u001b[49m)\n",
      "\u001b[1;31mNameError\u001b[0m: name 'full_name' is not defined"
     ]
    }
   ],
   "source": [
    "# print(forename) # this will print with no issue\n",
    "# print(full_name) # this should throw an error"
   ]
  },
  {
   "cell_type": "markdown",
   "metadata": {},
   "source": [
    "It is possible to create a global variable within a function. To do so, you must declare the variable using the `global` keyword, on a separate line before defining the variable e.g."
   ]
  },
  {
   "cell_type": "code",
   "execution_count": 6,
   "metadata": {},
   "outputs": [
    {
     "name": "stdout",
     "output_type": "stream",
     "text": [
      "Sotirios Alpanis\n",
      "Initials for the name Sotirios Alpanis are \"S A\"\n",
      "Accessing initials variable globally: S A\n"
     ]
    }
   ],
   "source": [
    "f_name = print_name('Alpanis')\n",
    "\n",
    "def print_initials(full_name):\n",
    "\n",
    "    split_name = full_name.split(' ')\n",
    "    global initials\n",
    "    initials = ' '.join([name[0] for name in split_name])\n",
    "    print(f'Initials for the name {full_name} are \"{initials}\"')\n",
    "\n",
    "    return initials\n",
    "\n",
    "print_initials(f_name)\n",
    "print(f'Accessing initials variable globally: {initials}')"
   ]
  },
  {
   "cell_type": "markdown",
   "metadata": {},
   "source": [
    "**n.b.** I haven't come across a scenario where creating a global variable in local scope is less confusing than it is useful. It's good to know it's a possibility, but I'd recommend not using this feature unless absolutely necessary."
   ]
  },
  {
   "cell_type": "markdown",
   "metadata": {},
   "source": [
    "## Handling exceptions\n",
    "\n",
    "Well written code should handle exceptions. It's very difficult to anticipate and allow for every eventuality when writing code, so handling exceptions and failing gracefully is good practice.\n",
    "\n",
    "The most straightforward way of handling errors is to use a `try/except` block: "
   ]
  },
  {
   "cell_type": "code",
   "execution_count": 10,
   "metadata": {},
   "outputs": [
    {
     "name": "stdout",
     "output_type": "stream",
     "text": [
      "75\n",
      "2\n",
      "None\n",
      "An error occurred: unsupported operand type(s) for -: 'str' and 'str'\n"
     ]
    }
   ],
   "source": [
    "def simple_calculator(num_1, num_2, math_operator):\n",
    "    try:\n",
    "        if math_operator == '+':\n",
    "            return num_1 + num_2\n",
    "        elif math_operator == '-':\n",
    "            return num_1 - num_2\n",
    "        elif math_operator == '/':\n",
    "            return num_1 // num_2\n",
    "        elif math_operator == '*':\n",
    "            return num_1 * num_2\n",
    "    except Exception as e:\n",
    "        return f'An error occurred: {e}'\n",
    "    \n",
    "\n",
    "print(simple_calculator(50,25,'+'))\n",
    "print(simple_calculator(50,25,'/'))\n",
    "print(simple_calculator('50','25','-'))"
   ]
  },
  {
   "cell_type": "markdown",
   "metadata": {},
   "source": [
    "## Functions calling functions\n",
    "\n",
    "Functions can also be \"chained\" together and called from inside other functions. When done correctly it can lead to really well-written, clean DRY code. When not done so well it can esily cause 'spaghetti' code. A good guiding principle is to start with a function/functions that ar general purpose and build more specific ones that call them as you need them.\n",
    "\n",
    "Let's build on our simple_calculator and imagine that we want to create a function that will take to numbers and minus the smaller of the two from the larger"
   ]
  },
  {
   "cell_type": "code",
   "execution_count": 11,
   "metadata": {},
   "outputs": [
    {
     "name": "stdout",
     "output_type": "stream",
     "text": [
      "5\n",
      "5\n"
     ]
    }
   ],
   "source": [
    "def sort_and_minus(num_1, num_2):\n",
    "    if num_1 > num_2:\n",
    "        return(simple_calculator(num_1,num_2,'-'))\n",
    "    else:\n",
    "        return(simple_calculator(num_2,num_1,'-'))\n",
    "    \n",
    "\n",
    "print(sort_and_minus(10,5))\n",
    "print(sort_and_minus(5,10))"
   ]
  },
  {
   "cell_type": "markdown",
   "metadata": {},
   "source": [
    "### Recursive functions\n",
    "\n",
    "A more advanced subset of functions invoking functions is when a function invokes itself, this is known as *recursion*.\n",
    "\n",
    "For example, in maths a number's factorial is the product of all whole numbers from 1 to the number i.e the factorial of 6 is `1*2*3*4*5*6` which equals 720. As a recursive function it looks like: "
   ]
  },
  {
   "cell_type": "code",
   "execution_count": 6,
   "metadata": {},
   "outputs": [
    {
     "name": "stdout",
     "output_type": "stream",
     "text": [
      "Input number  3\n",
      "Input number  2\n",
      "Input number  1\n",
      "Return  2\n",
      "Input number  1\n",
      "Return  6\n",
      "Input number  2\n",
      "Input number  1\n",
      "Return  2\n",
      "Input number  1\n",
      "The factorial of 3 is 6\n"
     ]
    }
   ],
   "source": [
    "def factorial(number):\n",
    "    if number == 1:\n",
    "        return 1\n",
    "    else:\n",
    "        return (number * factorial(number-1))\n",
    "\n",
    "num = 3\n",
    "print(f'The factorial of {num} is {factorial(num)}')"
   ]
  },
  {
   "cell_type": "markdown",
   "metadata": {},
   "source": [
    "## Exercise\n",
    "\n",
    "This exercise is taken from Automate the Boring Stuff with Python, chapter 3 [https://automatetheboringstuff.com/2e/chapter3/](https://automatetheboringstuff.com/2e/chapter3/)\n",
    "\n",
    "**n.b.** this is on the trickier end of things, but give it a go!\n",
    "\n",
    "### The Collatz Sequence\n",
    "\n",
    "Write a function named `collatz()` that has one parameter named `number`. If number is even, then `collatz()` should print number // 2 and return this value. If number is odd, then collatz() should print and return 3 * number + 1.\n",
    "\n",
    "Then write a program that lets the user type in an integer and that keeps calling collatz() on that number until the function returns the value 1. (Amazingly enough, this sequence actually works for any integer—sooner or later, using this sequence, you’ll arrive at 1! Even mathematicians aren’t sure why. Your program is exploring what’s called the Collatz sequence, sometimes called “the simplest impossible math problem.”)\n",
    "\n",
    "Remember to convert the return value from input() to an integer with the int() function; otherwise, it will be a string value.\n",
    "\n",
    "Hint: An integer number is even if number % 2 == 0, and it’s odd if number % 2 == 1."
   ]
  }
 ],
 "metadata": {
  "kernelspec": {
   "display_name": "code-club-wrWsNoM5",
   "language": "python",
   "name": "python3"
  },
  "language_info": {
   "codemirror_mode": {
    "name": "ipython",
    "version": 3
   },
   "file_extension": ".py",
   "mimetype": "text/x-python",
   "name": "python",
   "nbconvert_exporter": "python",
   "pygments_lexer": "ipython3",
   "version": "3.11.0"
  }
 },
 "nbformat": 4,
 "nbformat_minor": 2
}
