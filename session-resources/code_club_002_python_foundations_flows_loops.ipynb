{
 "cells": [
  {
   "cell_type": "markdown",
   "metadata": {},
   "source": [
    "# Python foundations: loops and flows\n",
    "\n",
    "Python, and most code, is very good at doing things that would be slow for you to complete manually, quickly. At the core of this is 'looping' through collections of data and performing a set of tasks on each entry from that collection.\n",
    "\n",
    "Another, complimentary foundation to looping is the use of 'flow control' where conditions are used to control which parts of your code execute. The combination of these two allows you to quickly process a variety of different data, taking different actions on the contents based on the conditions you set."
   ]
  },
  {
   "cell_type": "markdown",
   "metadata": {},
   "source": [
    "## Loops\n",
    "\n",
    "In Python, there are two standard looping methods: \n",
    "\n",
    "    - `for` - best used to iterate over a finite or known quantity of items e.g. the values in stored a list\n",
    "    - `while` - best used where the number of iterations is potentially infinite or unknown e.g. a guess the number game\n",
    "\n",
    "In reality, there are ways of using either option to achieve most use cases that require a loop, however it's good to consider the conceptual differences and make an informed choice. "
   ]
  },
  {
   "cell_type": "markdown",
   "metadata": {},
   "source": [
    "### `for` loops\n",
    "\n",
    "`for` loops are used to iterate over data collections (often referred to as *iterables*) e.g. lists, dictionaries, tuples, sets and strings.\n",
    "\n",
    "Syntactically, there are a couple of things to pay attention to...\n",
    "\n",
    "```py\n",
    "for x in my_list:\n",
    "    print(x)\n",
    "```\n",
    "\n",
    "- the `:` at the end of the first line is easy to miss, but vital\n",
    "- the following line is indented\n",
    "- in the above example `x` is temporary variable name and is used to refer to each item in the list in turn"
   ]
  },
  {
   "cell_type": "code",
   "execution_count": 4,
   "metadata": {},
   "outputs": [
    {
     "name": "stdout",
     "output_type": "stream",
     "text": [
      "Hello I am a Monkey\n",
      "I am index number 0 in the animal list\n",
      "Hello I am a Bear\n",
      "I am index number 1 in the animal list\n",
      "Hello I am a Tiger\n",
      "I am index number 2 in the animal list\n",
      "Hello I am a Fox\n",
      "I am index number 3 in the animal list\n",
      "Hello I am a Giraffe\n",
      "I am index number 4 in the animal list\n",
      "Hello I am a Penguin\n",
      "I am index number 5 in the animal list\n",
      "Goodbye, I am a Penguin\n"
     ]
    }
   ],
   "source": [
    "animals = [\"Monkey\", \"Bear\", \"Tiger\", \"Fox\", \"Giraffe\", \"Penguin\"]\n",
    "\n",
    "for animal in animals:\n",
    "    print(f\"Hello I am a {animal}\")\n",
    "    animal_index = animals.index(animal)\n",
    "    print(f\"I am index number {animal_index} in the animal list\")\n",
    "    \n",
    "print(f'Goodbye, I am a {animal}') "
   ]
  },
  {
   "cell_type": "markdown",
   "metadata": {},
   "source": [
    "**n.b.** the above code uses a feature of Python called *f-strings* e.g. `print(f\"Hello I am a {animal}\")`. The `f` before the string indicates that you are going to pass one or more variables into it. Curly brackets are used as a placeholder for the variable(s). There are a few different methods for combining strings and variables, but this is the most up-to-date (and preferred) one stylistically. \n",
    "\n",
    "Here's an example to show the alternatives to achieve the same result:"
   ]
  },
  {
   "cell_type": "code",
   "execution_count": 9,
   "metadata": {},
   "outputs": [
    {
     "name": "stdout",
     "output_type": "stream",
     "text": [
      "Hello I am a Monkey my name is Marlo .\n",
      "Hello I am a Monkey my name is Marlo.\n",
      "Hello I am a Monkey my name is Marlo\n",
      "Hello I am a Monkey my name is Marlo\n"
     ]
    }
   ],
   "source": [
    "animal = \"Monkey\"\n",
    "name = \"Marlo\"\n",
    "\n",
    "print(\"Hello I am a\",animal, \"my name is\",name,\".\")\n",
    "print(\"Hello I am a \" + animal + \" my name is \" + name + '.')\n",
    "print(\"Hello I am a {} my name is {}\".format(animal, name))\n",
    "print(f\"Hello I am a {animal} my name is {name}\")"
   ]
  },
  {
   "cell_type": "markdown",
   "metadata": {},
   "source": [
    "`for` loops with dictionaries work in a similar manner, but combined with dictionary methods offer some different options e.g."
   ]
  },
  {
   "cell_type": "code",
   "execution_count": 6,
   "metadata": {},
   "outputs": [
    {
     "name": "stdout",
     "output_type": "stream",
     "text": [
      "I am a Monkey\n",
      "I am a Bear\n",
      "I am a Tiger\n",
      "I am a Fox\n",
      "I am a Giraffe\n",
      "I am a Penguin\n",
      "My name is Marlo\n",
      "My name is Bunk\n",
      "My name is Tommy\n",
      "My name is Frank\n",
      "My name is Jimmy\n",
      "My name is Prop Joe\n",
      "Hello, my name is Marlo and i am a Monkey\n",
      "Hello, my name is Bunk and i am a Bear\n",
      "Hello, my name is Tommy and i am a Tiger\n",
      "Hello, my name is Frank and i am a Fox\n",
      "Hello, my name is Jimmy and i am a Giraffe\n",
      "Hello, my name is Prop Joe and i am a Penguin\n"
     ]
    }
   ],
   "source": [
    "animal_dict = {\n",
    "    'Monkey': \"Marlo\",\n",
    "    \"Bear\": \"Bunk\",\n",
    "    \"Tiger\": \"Tommy\",\n",
    "    \"Fox\": \"Frank\",\n",
    "    \"Giraffe\":\"Jimmy\",\n",
    "    \"Penguin\": \"Prop Joe\"\n",
    "\n",
    "}\n",
    "\n",
    "for animal in animal_dict.keys():\n",
    "    print(f\"I am a {animal}\")\n",
    "\n",
    "# for name in animal_dict.values():\n",
    "#     print(f\"My name is {name}\")\n",
    "\n",
    "# for animal, name in animal_dict.items():\n",
    "#     print(f\"Hello, my name is {name} and I am a {animal}\")    "
   ]
  },
  {
   "cell_type": "markdown",
   "metadata": {},
   "source": [
    "### `while` loops\n",
    "\n",
    "`while` loops are potentially infinite, so it's important to make sure you have your logic correct before instantiating them.\n",
    "\n",
    "From a syntax point of view, they follow a similar patter to for loops where the `:` is used to indicate the beginning of the loop and indentation is used to define the block of code to be executed."
   ]
  },
  {
   "cell_type": "code",
   "execution_count": 4,
   "metadata": {},
   "outputs": [
    {
     "name": "stdout",
     "output_type": "stream",
     "text": [
      "1\n",
      "1 was the correct number!\n"
     ]
    }
   ],
   "source": [
    "from random import randint\n",
    "\n",
    "random_num = randint(1,10)\n",
    "print(random_num)\n",
    "\n",
    "num_guess = 0\n",
    "\n",
    "while num_guess != random_num: \n",
    "    num_guess = int(input(\"Please guess a number between 1 & 10\"))\n",
    "    print(f\"You guessed {num_guess}\")\n",
    "\n",
    "print(f'{num_guess} was the correct number, well done!')"
   ]
  },
  {
   "cell_type": "markdown",
   "metadata": {},
   "source": [
    "### Loop exercises\n",
    "\n",
    "1. Create a dictionary that contains information about your favourite movie, e.g. title, lead actors, director etc. Loop through the dictionary and print each key/value pair in a formatted string. \n",
    "2. Create a list of at least 5 numbers. Create a `for` loop that adds them together and prints the total after each loop.\n",
    "3. Create a `while` loop that asks you for a number and runs until the sum total of the numbers provided is greater than 100.\n",
    "    - Modify your answer to 2. so that each number supplied by the user is appended to a list. When the loops exits, print the length of the list and the final entry in it.\n"
   ]
  },
  {
   "cell_type": "code",
   "execution_count": null,
   "metadata": {},
   "outputs": [],
   "source": []
  },
  {
   "cell_type": "markdown",
   "metadata": {},
   "source": [
    "## Flow Control\n",
    "\n",
    "In Python we check conditions (i.e. True/False statements) and direct the program to execute (or skip) blocks of code based on the outcome. Code blocks are indicated through indentation, similarly to for/while loops.\n",
    "\n",
    "### `if`, `elif` and `else`\n",
    "\n",
    "- `if` statements are a way to check if a condition has been met, when they are any code indented directly beneath it will execute.\n",
    "- `elif` or *else if* can only be included after an if statement, and are used to check if another condition has been met\n",
    "- `else` again, can only follow an if (or elif) statement and will execute when the condition(s) of those previous statements haven't been met.\n",
    "\n",
    "Here's an example to help explain it:"
   ]
  },
  {
   "cell_type": "code",
   "execution_count": 23,
   "metadata": {},
   "outputs": [
    {
     "name": "stdout",
     "output_type": "stream",
     "text": [
      "5 is nice and high\n"
     ]
    }
   ],
   "source": [
    "a_number = 1\n",
    "\n",
    "if a_number < 3:\n",
    "    print(f\"{a_number} is low a number\")\n",
    "# elif a_number < 6:\n",
    "#     print(f\"{a_number} is pretty middling\")\n",
    "else:\n",
    "    print(f\"{a_number} is nice and high\")"
   ]
  },
  {
   "cell_type": "markdown",
   "metadata": {},
   "source": [
    "### Nesting conditionals\n",
    "\n",
    "It is fairly common to use nesting to help *branch* our logic further. For example, imagine a game of \"Guess Who\"..."
   ]
  },
  {
   "cell_type": "code",
   "execution_count": 29,
   "metadata": {},
   "outputs": [
    {
     "name": "stdout",
     "output_type": "stream",
     "text": [
      "Noice, different unusual Kath\n"
     ]
    }
   ],
   "source": [
    "character = {\n",
    "    \"name\": \"Kath\",\n",
    "    \"gender\": \"female\",\n",
    "    \"hair\" : \"blonde\"\n",
    "}\n",
    "# character = {\n",
    "#     \"name\": \"Kim\",\n",
    "#     \"gender\": \"female\",\n",
    "#     \"hair\" : \"brown\"\n",
    "# }\n",
    "# character = {\n",
    "#     \"name\": \"Kel\",\n",
    "#     \"gender\": \"male\",\n",
    "#     \"hair\" : \"brown\"\n",
    "# }\n",
    "# character = {\n",
    "#     \"name\": \"Brett\",\n",
    "#     \"gender\": \"male\",\n",
    "#     \"hair\" : \"black\"\n",
    "# }\n",
    "\n",
    "if character[\"gender\"] == \"female\":\n",
    "    if character['hair'] == \"blonde\":\n",
    "        print(f\"Noice, different unusual {character['name']}\")\n",
    "    elif character[\"hair\"] == \"brown\":\n",
    "        print(f\"{character['name']}, look at moy, look at mooy!\")\n",
    "    else:\n",
    "        print(\"Some second best friend you turned out to be!\")\n",
    "else:\n",
    "    if character[\"hair\"] == \"brown\":\n",
    "        print(f\"Quid pro quo, {character['name']}\")\n",
    "    else:\n",
    "        print(f\"{character['name']}, your mother's here\")"
   ]
  },
  {
   "cell_type": "markdown",
   "metadata": {},
   "source": [
    "## Combining Loops and flows\n",
    "\n",
    "Using loops and flows in conjunction is a very common and helpful technique.\n",
    "\n",
    "In the following example, imagine you have received a messy list of prices that contains some data which cannot be summed"
   ]
  },
  {
   "cell_type": "code",
   "execution_count": 37,
   "metadata": {},
   "outputs": [
    {
     "ename": "TypeError",
     "evalue": "unsupported operand type(s) for +=: 'int' and 'NoneType'",
     "output_type": "error",
     "traceback": [
      "\u001b[1;31m---------------------------------------------------------------------------\u001b[0m",
      "\u001b[1;31mTypeError\u001b[0m                                 Traceback (most recent call last)",
      "\u001b[1;32mf:\\development\\code-club\\session-resources\\code_club_002_python_foundations_flows_loops.ipynb Cell 19\u001b[0m line \u001b[0;36m6\n\u001b[0;32m      <a href='vscode-notebook-cell:/f%3A/development/code-club/session-resources/code_club_002_python_foundations_flows_loops.ipynb#X36sZmlsZQ%3D%3D?line=2'>3</a>\u001b[0m sum_of_prices \u001b[39m=\u001b[39m \u001b[39m0\u001b[39m\n\u001b[0;32m      <a href='vscode-notebook-cell:/f%3A/development/code-club/session-resources/code_club_002_python_foundations_flows_loops.ipynb#X36sZmlsZQ%3D%3D?line=4'>5</a>\u001b[0m \u001b[39mfor\u001b[39;00m price \u001b[39min\u001b[39;00m price_list:\n\u001b[1;32m----> <a href='vscode-notebook-cell:/f%3A/development/code-club/session-resources/code_club_002_python_foundations_flows_loops.ipynb#X36sZmlsZQ%3D%3D?line=5'>6</a>\u001b[0m     sum_of_prices \u001b[39m+\u001b[39;49m\u001b[39m=\u001b[39;49m price\n\u001b[0;32m      <a href='vscode-notebook-cell:/f%3A/development/code-club/session-resources/code_club_002_python_foundations_flows_loops.ipynb#X36sZmlsZQ%3D%3D?line=7'>8</a>\u001b[0m \u001b[39mprint\u001b[39m(sum_of_prices)\n\u001b[0;32m     <a href='vscode-notebook-cell:/f%3A/development/code-club/session-resources/code_club_002_python_foundations_flows_loops.ipynb#X36sZmlsZQ%3D%3D?line=9'>10</a>\u001b[0m \u001b[39m# for price in price_list:\u001b[39;00m\n\u001b[0;32m     <a href='vscode-notebook-cell:/f%3A/development/code-club/session-resources/code_club_002_python_foundations_flows_loops.ipynb#X36sZmlsZQ%3D%3D?line=10'>11</a>\u001b[0m \u001b[39m#     # print(type(price))\u001b[39;00m\n\u001b[0;32m     <a href='vscode-notebook-cell:/f%3A/development/code-club/session-resources/code_club_002_python_foundations_flows_loops.ipynb#X36sZmlsZQ%3D%3D?line=11'>12</a>\u001b[0m \u001b[39m#     if isinstance(price, int):\u001b[39;00m\n\u001b[1;32m   (...)\u001b[0m\n\u001b[0;32m     <a href='vscode-notebook-cell:/f%3A/development/code-club/session-resources/code_club_002_python_foundations_flows_loops.ipynb#X36sZmlsZQ%3D%3D?line=15'>16</a>\u001b[0m \u001b[39m#     else:\u001b[39;00m\n\u001b[0;32m     <a href='vscode-notebook-cell:/f%3A/development/code-club/session-resources/code_club_002_python_foundations_flows_loops.ipynb#X36sZmlsZQ%3D%3D?line=16'>17</a>\u001b[0m \u001b[39m#         print(f'{price} is not an int or float')\u001b[39;00m\n",
      "\u001b[1;31mTypeError\u001b[0m: unsupported operand type(s) for +=: 'int' and 'NoneType'"
     ]
    }
   ],
   "source": [
    "price_list = [10, None, 7.4, 20, \"Price list\" , 10.1, None, 3.5, 4]\n",
    "\n",
    "sum_of_prices = 0\n",
    "\n",
    "for price in price_list:\n",
    "    sum_of_prices += price\n",
    "\n",
    "print(sum_of_prices)\n",
    "\n",
    "# for price in price_list:\n",
    "#     # print(type(price))\n",
    "#     if isinstance(price, int):\n",
    "#         sum_of_prices += price\n",
    "#     elif isinstance(price, float):\n",
    "#         sum_of_prices += price\n",
    "#     else:\n",
    "#         print(f'{price} is not an int or float')\n",
    "\n",
    "# print(sum_of_prices)"
   ]
  },
  {
   "cell_type": "markdown",
   "metadata": {},
   "source": [
    "**n.b.** in the code above you may have noticed the use of `+=`. This is a shorthand for `sum_of_prices = sum_of_prices + price`"
   ]
  },
  {
   "cell_type": "markdown",
   "metadata": {},
   "source": [
    "Building on our Kath & Kim themed game of Guess Who, here's how they could be combined into flow/loop situation..."
   ]
  },
  {
   "cell_type": "code",
   "execution_count": 38,
   "metadata": {},
   "outputs": [
    {
     "name": "stdout",
     "output_type": "stream",
     "text": [
      "Noice, different unusual Kath\n",
      "Kim, look at moy, look at mooy!\n",
      "Quid pro quo, Kel\n",
      "Brett, your mother's here\n"
     ]
    }
   ],
   "source": [
    "kath = {\n",
    "    \"name\": \"Kath\",\n",
    "    \"gender\": \"female\",\n",
    "    \"hair\" : \"blonde\"\n",
    "}\n",
    "kim = {\n",
    "    \"name\": \"Kim\",\n",
    "    \"gender\": \"female\",\n",
    "    \"hair\" : \"brown\"\n",
    "}\n",
    "kel = {\n",
    "    \"name\": \"Kel\",\n",
    "    \"gender\": \"male\",\n",
    "    \"hair\" : \"brown\"\n",
    "}\n",
    "brett = {\n",
    "    \"name\": \"Brett\",\n",
    "    \"gender\": \"male\",\n",
    "    \"hair\" : \"black\"\n",
    "}\n",
    "\n",
    "characters_list = [kath,kim,kel,brett]\n",
    "\n",
    "for character in characters_list:\n",
    "    if character[\"gender\"] == \"female\":\n",
    "        if character['hair'] == \"blonde\":\n",
    "            print(f\"Noice, different unusual {character['name']}\")\n",
    "        elif character[\"hair\"] == \"brown\":\n",
    "            print(f\"{character['name']}, look at moy, look at mooy!\")\n",
    "        else:\n",
    "            print(\"Some second best friend you turned out to be!\")\n",
    "    else:\n",
    "        if character[\"hair\"] == \"brown\":\n",
    "            print(f\"Quid pro quo, {character['name']}\")\n",
    "        else:\n",
    "            print(f\"{character['name']}, your mother's here\")"
   ]
  },
  {
   "cell_type": "markdown",
   "metadata": {},
   "source": [
    "## Loops and flows exercises\n",
    "\n",
    "1. Using the existing started code below, can you create a game of *Rock, Paper, Scissors*? by way of a reminder:\n",
    "    - paper defeats rock\n",
    "    - rock defeats scissors\n",
    "    - scissors defeat paper\n",
    "    - if both choices are the same then the game is drawn"
   ]
  },
  {
   "cell_type": "code",
   "execution_count": 30,
   "metadata": {},
   "outputs": [
    {
     "name": "stdout",
     "output_type": "stream",
     "text": [
      "stone\n"
     ]
    }
   ],
   "source": [
    "from random import randint\n",
    "\n",
    "choices = [\"rock\",\"paper\",\"scissors\"]\n",
    "\n",
    "my_choice = input(\"Please select 'rock', 'paper' or 'scissors'\")\n",
    "\n",
    "computer_choice_index = randint(0,2) # randomly pick one of the indexes from the list of choices\n",
    "computer_choice = choices[computer_choice_index]\n",
    "\n",
    "# print(computer_choice)"
   ]
  },
  {
   "cell_type": "markdown",
   "metadata": {},
   "source": [
    "2. Update your code to keep track of the score (1 point for a win, 0 for a draw) and run *while* the number of games is fewer than 10."
   ]
  },
  {
   "cell_type": "code",
   "execution_count": null,
   "metadata": {},
   "outputs": [],
   "source": []
  }
 ],
 "metadata": {
  "kernelspec": {
   "display_name": "code-club-wrWsNoM5",
   "language": "python",
   "name": "python3"
  },
  "language_info": {
   "codemirror_mode": {
    "name": "ipython",
    "version": 3
   },
   "file_extension": ".py",
   "mimetype": "text/x-python",
   "name": "python",
   "nbconvert_exporter": "python",
   "pygments_lexer": "ipython3",
   "version": "3.11.0"
  }
 },
 "nbformat": 4,
 "nbformat_minor": 2
}
